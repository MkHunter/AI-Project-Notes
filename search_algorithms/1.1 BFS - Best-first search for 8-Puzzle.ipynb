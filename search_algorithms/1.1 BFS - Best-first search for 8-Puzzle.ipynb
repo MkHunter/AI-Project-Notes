{
 "cells": [
  {
   "cell_type": "code",
   "execution_count": 21,
   "metadata": {},
   "outputs": [],
   "source": [
    "import numpy as np\n",
    "import queue\n",
    "import matplotlib.pyplot as plt\n",
    "import itertools as it\n",
    "from prettytable import PrettyTable"
   ]
  },
  {
   "cell_type": "code",
   "execution_count": 30,
   "metadata": {},
   "outputs": [],
   "source": [
    "#Receives a list that represents the state: [n1,n2,...] where n1 != n2!= ...\n",
    "def equal_state(state1,state2):\n",
    "    rows = len(state1)\n",
    "    columns = len(state1[0])\n",
    "    for row in range(0,rows):\n",
    "        for column in range(0, columns):\n",
    "            if not(state1[row][column]==state2[row][column]):\n",
    "                #print(str(state1[row][column])+\"\"+str(state2[row][column]))\n",
    "                return False\n",
    "    return True\n",
    "\n",
    "#Receives a matrix that represents the state: [n1,n2,...] where n1 != n2!= ...\n",
    "def goaltest(state):\n",
    "    passes = False\n",
    "    goals = [[[0,1,2],[3,4,5],[6,7,8]],\n",
    "             [[1,2,3],[4,5,6],[7,8,0]]]\n",
    "    for goal in goals:\n",
    "        #print(\"goal: \"+str(goal))\n",
    "        passes = passes or equal_state(state,goal)\n",
    "    return passes\n",
    "\n",
    "def printBoard(arr_solution):\n",
    "    if arr_solution != []:\n",
    "        temp_solution = list(it.chain(*arr_solution))\n",
    "\n",
    "        width  = len(arr_solution)\n",
    "        height = len(arr_solution[0]) \n",
    "        \n",
    "        puzzle = np.zeros((width,height))\n",
    "        puzzle[1::2,0::2] = 1\n",
    "        puzzle[0::2,1::2] = 1\n",
    "\n",
    "        plt.imshow(puzzle, cmap='binary')\n",
    "        \n",
    "        for i in range(0,width):\n",
    "            for j in range(0,height):\n",
    "                character = str(arr_solution[i][j])\n",
    "                plt.text(j, i, character, fontsize=20, ha='center', va='center', color='black' if (i - j) % 2 == 0 else 'white')\n",
    "        plt.show()"
   ]
  },
  {
   "cell_type": "code",
   "execution_count": 23,
   "metadata": {},
   "outputs": [],
   "source": [
    "def get_element_position(state,value):\n",
    "    rows = len(state)\n",
    "    columns = len(state[0])\n",
    "    for row in range(0,rows):\n",
    "        for column in range(0, columns):\n",
    "            if(value == state[row][column]):\n",
    "                return row,column\n",
    "\n",
    "def swap_elements_by_position(state,el1,el2):\n",
    "    tempval = state[el1[0]][el1[1]]\n",
    "    state[el1[0]][el1[1]] = state[el2[0]][el2[1]]\n",
    "    state[el2[0]][el2[1]] = tempval\n",
    "    return state"
   ]
  },
  {
   "cell_type": "code",
   "execution_count": 24,
   "metadata": {},
   "outputs": [],
   "source": [
    "#Expands the actual node, returns a list of states\n",
    "def expand(state):\n",
    "    expanded = []    \n",
    "    \n",
    "    i,j = get_element_position(state,0)\n",
    "    blank_pos = [i,j]\n",
    "              # [V+,H+,V-,H-]\n",
    "              # [up,right,down,left]\n",
    "    movements = [i-1,j+1,i+1,j-1]\n",
    "    names = [\"ARRIBA\",\"DERECHA\",\"ABAJO\",\"IZQUIERDA\"]\n",
    "    #print(str(i)+\"<-i/j>\"+str(j))\n",
    "    for mov_index in range(0,4):\n",
    "        move = movements[mov_index]\n",
    "        if not(move > 2 or move < 0):\n",
    "            #print(names[mov_index])\n",
    "            #print(\"mov_index: \"+str(mov_index)+\" PASA: \"+str(move)+\" state[0,move]:\"+str(t[0][move])+\" state[move,0]:\"+str(t[move][0]))\n",
    "            temporal = np.array(state)\n",
    "            #Vertical\n",
    "            if(mov_index%2 == 0):\n",
    "                something = swap_elements_by_position(temporal,blank_pos,[move,j])\n",
    "                #print(\"Cae en SI \"+str(mov_index)+\" \"+str(t))\n",
    "            #Horizontal\n",
    "            else:\n",
    "                something = swap_elements_by_position(temporal,blank_pos,[i,move])\n",
    "                #print(\"Cae en NO \"+str(mov_index)+\" \"+str(t))\n",
    "            \n",
    "            expanded.append(something.tolist())\n",
    "            #print(expanded)\n",
    "    return expanded"
   ]
  },
  {
   "cell_type": "code",
   "execution_count": 25,
   "metadata": {},
   "outputs": [],
   "source": [
    "def addtoQueue(queue_,list_of_lists):\n",
    "    for l in list_of_lists:\n",
    "        queue_.put(l)\n",
    "\n",
    "def printQueue(queue_,elem_limit):\n",
    "    queue_= list(queue_.queue)\n",
    "    if len(queue_)<elem_limit:\n",
    "        print(\"frontier = \"+str(np.array(queue_)))"
   ]
  },
  {
   "cell_type": "code",
   "execution_count": 26,
   "metadata": {},
   "outputs": [],
   "source": [
    "# MAIN ALGORITHM\n",
    "cost=1\n",
    "\n",
    "def BFS(frontier):\n",
    "    global cost\n",
    "    act_element = frontier.get()\n",
    "    print(\"\\n\"+str(cost)+\". ================================\")\n",
    "    \n",
    "    printBoard(act_element)\n",
    "    \n",
    "    if goaltest(act_element):\n",
    "        print(\"The BFS of the 8-Puzzle is: \"+str(act_element))\n",
    "        return\n",
    "    \n",
    "    offspring = expand(act_element)\n",
    "    #print(\"===== offspring =====\")\n",
    "    #print(str(np.array(offspring)))\n",
    "    \n",
    "    addtoQueue(frontier,offspring)\n",
    "    \n",
    "    #printQueue(frontier,30)\n",
    "    cost+=1\n",
    "    BFS(frontier)"
   ]
  },
  {
   "cell_type": "code",
   "execution_count": 31,
   "metadata": {
    "scrolled": false
   },
   "outputs": [
    {
     "name": "stdout",
     "output_type": "stream",
     "text": [
      "\n",
      "0. ================================\n"
     ]
    },
    {
     "data": {
      "image/png": "[encoded data removed]",
      "text/plain": [
       "<Figure size 432x288 with 1 Axes>"
      ]
     },
     "metadata": {
      "needs_background": "light"
     },
     "output_type": "display_data"
    },
    {
     "name": "stdout",
     "output_type": "stream",
     "text": [
      "\n",
      "1. ================================\n"
     ]
    },
    {
     "data": {
      "image/png": "[encoded data removed]",
      "text/plain": [
       "<Figure size 432x288 with 1 Axes>"
      ]
     },
     "metadata": {
      "needs_background": "light"
     },
     "output_type": "display_data"
    },
    {
     "name": "stdout",
     "output_type": "stream",
     "text": [
      "\n",
      "2. ================================\n"
     ]
    },
    {
     "data": {
      "image/png": "[encoded data removed]",
      "text/plain": [
       "<Figure size 432x288 with 1 Axes>"
      ]
     },
     "metadata": {
      "needs_background": "light"
     },
     "output_type": "display_data"
    },
    {
     "name": "stdout",
     "output_type": "stream",
     "text": [
      "\n",
      "3. ================================\n"
     ]
    },
    {
     "data": {
      "image/png": "[encoded data removed]",
      "text/plain": [
       "<Figure size 432x288 with 1 Axes>"
      ]
     },
     "metadata": {
      "needs_background": "light"
     },
     "output_type": "display_data"
    },
    {
     "name": "stdout",
     "output_type": "stream",
     "text": [
      "\n",
      "4. ================================\n"
     ]
    },
    {
     "data": {
      "image/png": "[encoded data removed]",
      "text/plain": [
       "<Figure size 432x288 with 1 Axes>"
      ]
     },
     "metadata": {
      "needs_background": "light"
     },
     "output_type": "display_data"
    },
    {
     "name": "stdout",
     "output_type": "stream",
     "text": [
      "\n",
      "5. ================================\n"
     ]
    },
    {
     "data": {
      "image/png": "[encoded data removed]",
      "text/plain": [
       "<Figure size 432x288 with 1 Axes>"
      ]
     },
     "metadata": {
      "needs_background": "light"
     },
     "output_type": "display_data"
    },
    {
     "name": "stdout",
     "output_type": "stream",
     "text": [
      "\n",
      "6. ================================\n"
     ]
    },
    {
     "data": {
      "image/png": "[encoded data removed]",
      "text/plain": [
       "<Figure size 432x288 with 1 Axes>"
      ]
     },
     "metadata": {
      "needs_background": "light"
     },
     "output_type": "display_data"
    },
    {
     "name": "stdout",
     "output_type": "stream",
     "text": [
      "\n",
      "7. ================================\n"
     ]
    },
    {
     "data": {
      "image/png": "[encoded data removed]",
      "text/plain": [
       "<Figure size 432x288 with 1 Axes>"
      ]
     },
     "metadata": {
      "needs_background": "light"
     },
     "output_type": "display_data"
    },
    {
     "name": "stdout",
     "output_type": "stream",
     "text": [
      "The BFS of the 8-Puzzle is: [[0, 1, 2], [3, 4, 5], [6, 7, 8]]\n",
      "7 iterations were done.\n"
     ]
    }
   ],
   "source": [
    "front = queue.Queue()\n",
    "front.put([[1,4,2],\n",
    "           [3,0,5],\n",
    "           [6,7,8]])#[1,1,1,1])\n",
    "BFS(front)\n",
    "print(str(cost)+\" iterations were done.\")\n",
    "cost = 0\n",
    "front.queue.clear()"
   ]
  },
  {
   "cell_type": "markdown",
   "metadata": {},
   "source": [
    "# Expand function testing"
   ]
  },
  {
   "cell_type": "code",
   "execution_count": 8,
   "metadata": {},
   "outputs": [
    {
     "name": "stdout",
     "output_type": "stream",
     "text": [
      "0<-i/j>0\n",
      "DERECHA\n",
      "ABAJO\n",
      "EXPANDIDOS: [[[1 0 2]\n",
      "  [3 4 5]\n",
      "  [6 7 8]]\n",
      "\n",
      " [[3 1 2]\n",
      "  [0 4 5]\n",
      "  [6 7 8]]]\n",
      "GOALTEST: True\n"
     ]
    }
   ],
   "source": [
    "my_state = [[0,1,2],[3,4,5],[6,7,8]] #Result must be: [[0,1,2],[3,4,5],[6,7,8]] or [[1,2,3],[4,5,6],[7,8,0]]\n",
    "#print(str(goaltesT(my_state)))\n",
    "print(\"EXPANDIDOS: \"+str(np.array(expand(my_state))))\n",
    "print(\"GOALTEST: \"+str(goaltest(my_state)))"
   ]
  },
  {
   "cell_type": "code",
   "execution_count": 9,
   "metadata": {},
   "outputs": [
    {
     "data": {
      "text/plain": [
       "[[0, 1, 2], [3, 4, 5], [6, 7, 8]]"
      ]
     },
     "execution_count": 9,
     "metadata": {},
     "output_type": "execute_result"
    }
   ],
   "source": [
    "swap_elements_by_position([[8,1,2],[3,4,5],[6,7,0]],[2,2],[0,0])"
   ]
  }
 ],
 "metadata": {
  "kernelspec": {
   "display_name": "Python 3",
   "language": "python",
   "name": "python3"
  },
  "language_info": {
   "codemirror_mode": {
    "name": "ipython",
    "version": 3
   },
   "file_extension": ".py",
   "mimetype": "text/x-python",
   "name": "python",
   "nbconvert_exporter": "python",
   "pygments_lexer": "ipython3",
   "version": "3.6.4"
  }
 },
 "nbformat": 4,
 "nbformat_minor": 2
}
