{
 "cells": [
  {
   "cell_type": "code",
   "execution_count": 3,
   "metadata": {},
   "outputs": [
    {
     "output_type": "stream",
     "name": "stdout",
     "text": "-----------\nN = 5\nValido: [2, 4, 6, 3, 5]\nValido: [2, 5, 3, 6, 4]\nValido: [3, 5, 2, 4, 6]\nValido: [3, 6, 4, 2, 5]\nValido: [4, 2, 5, 3, 6]\nValido: [4, 6, 3, 5, 2]\nValido: [5, 2, 4, 6, 3]\nValido: [5, 3, 6, 4, 2]\nValido: [6, 3, 5, 2, 4]\nValido: [6, 4, 2, 5, 3]\n10 estados válidos\n"
    }
   ],
   "source": [
    "import itertools as it\n",
    "import numpy as np\n",
    "n = 5\n",
    "a = 0\n",
    "estados = []\n",
    "stuff = range(1,n+1) #stuff[0]->stuff[3]\n",
    "for subset in it.permutations(stuff, n):\n",
    "    estados.append(list(subset))\n",
    "    #print(list(subset))\n",
    "    \n",
    "#print(estados)\n",
    "print(\"-----------\")\n",
    "def esvalido(estado):\n",
    "    #print(estado)\n",
    "    for i in range(0,n):\n",
    "        X = estado[i]\n",
    "        for j in range(i+1,n):\n",
    "            Y = estado[j]\n",
    "            if(abs(i-j) is abs(X-Y)):\n",
    "                return False\n",
    "    estados_validos.append(estado)\n",
    "    return True\n",
    "\n",
    "print(\"N = \"+str(n))\n",
    "estados_validos = []\n",
    "for k in range(0,len(estados)):\n",
    "    estado = estados[k]\n",
    "    es_valido = esvalido(estado)\n",
    "    if es_valido:\n",
    "        _estado = [x-1 for x in estado]\n",
    "        print(\"Valido: \"+str(_estado))\n",
    "\n",
    "\n",
    "print(str(len(estados_validos))+\" estados válidos\")"
   ]
  },
  {
   "cell_type": "code",
   "execution_count": null,
   "metadata": {
    "scrolled": true
   },
   "outputs": [],
   "source": [
    "import numpy as np\n",
    "import queue\n",
    "import sys\n",
    "#Recibe una lista de estado: [n1,n2,...] donde n1 != n2!= ...\n",
    "def goaltest(estado):\n",
    "    n = len(estado)\n",
    "    #En caso de que contenga elementos repetidos\n",
    "    if(len(set(estado)) is not n):\n",
    "        return False\n",
    "    for i in range(0,n):\n",
    "        X = estado[i]\n",
    "        for j in range(i+1,n):\n",
    "            Y = estado[j]\n",
    "            #print(\"i - j = \"+str(i-j)+\" X - Y = \"+str(X-Y))\n",
    "            if(abs(i-j) is abs(X-Y)):\n",
    "                return False\n",
    "\n",
    "#Expandir el nodo actual, retorna lista de listas\n",
    "def expand(estado):\n",
    "    expanded = []\n",
    "    n = len(estado)\n",
    "    for i in range(0,n):\n",
    "        temporal = [0]*n\n",
    "        temporal[i] = 1\n",
    "        expanded_value = list(np.add(temporal,estado))\n",
    "        #Validate that it can't overextend the range\n",
    "        #And that it has unique values\n",
    "        if ((not any(k > len(estado) for k in expanded_value)) and (len(set(expanded_value)) is n)):\n",
    "            expanded.append(expanded_value)\n",
    "    return expanded\n",
    "\n",
    "def addtoQueue(queue_,list_of_lists):\n",
    "    for l in list_of_lists:\n",
    "        queue_.put(l)\n",
    "    return queue_\n",
    "\n",
    "# ALGORITMO PRINCIPAL\n",
    "def BFS(frontier):\n",
    "    act_element = frontier.get()\n",
    "    print(\"act_element = \"+str(act_element))\n",
    "    \n",
    "    if goaltest(act_element):\n",
    "        print(\"The BFS is \"+str(act_element))\n",
    "        sys.exit()\n",
    "        return\n",
    "    \n",
    "    offspring = expand(act_element)\n",
    "    print(\"offspring = \"+str(offspring))\n",
    "    \n",
    "    frontier = addtoQueue(frontier,offspring)\n",
    "    #print(\"frontier = \"+str(frontier))\n",
    "    \n",
    "    BFS(frontier)\n",
    "\n",
    "front = queue.Queue()\n",
    "front.put([1,1,1,1])#([2,4,1,3])\n",
    "BFS(front)"
   ]
  },
  {
   "cell_type": "code",
   "execution_count": null,
   "metadata": {},
   "outputs": [
    {
     "name": "stdout",
     "output_type": "stream",
     "text": [
      "act_element = [1, 1, 1, 1]\n",
      "offspring = []\n"
     ]
    }
   ],
   "source": [
    "import numpy as np\n",
    "import queue\n",
    "import sys\n",
    "#Recibe una lista de estado: [n1,n2,...] donde n1 != n2!= ...\n",
    "def goaltest(estado):\n",
    "    n = len(estado)\n",
    "    #En caso de que contenga elementos repetidos\n",
    "    if(len(set(estado)) is not n):\n",
    "        return False\n",
    "    for i in range(0,n):\n",
    "        X = estado[i]\n",
    "        for j in range(i+1,n):\n",
    "            Y = estado[j]\n",
    "            #print(\"i - j = \"+str(i-j)+\" X - Y = \"+str(X-Y))\n",
    "            if(abs(i-j) is abs(X-Y)):\n",
    "                return False\n",
    "\n",
    "#Expandir el nodo actual, retorna lista de listas\n",
    "def expand(estado):\n",
    "    expanded = []\n",
    "    n = len(estado)\n",
    "    for i in range(0,n):\n",
    "        temporal = [0]*n\n",
    "        temporal[i] = 1\n",
    "        expanded_value = list(np.add(temporal,estado))\n",
    "        #Validate that it can't overextend the range\n",
    "        if not any(k > len(estado) for k in expanded_value):\n",
    "            expanded.append(expanded_value)\n",
    "    return expanded\n",
    "\n",
    "def addtoQueue(queue_,list_of_lists):\n",
    "    for l in list_of_lists:\n",
    "        queue_.put(l)\n",
    "    return queue_\n",
    "\n",
    "# ALGORITMO PRINCIPAL\n",
    "\n",
    "frontier = queue.Queue()\n",
    "frontier.put([1,1,1,1])#([2,4,1,3])\n",
    "\n",
    "while True:\n",
    "    act_element = frontier.get()\n",
    "    print(\"act_element = \"+str(act_element))\n",
    "    \n",
    "    if goaltest(act_element):\n",
    "        print(\"The BFS is \"+str(act_element))\n",
    "        sys.exit()\n",
    "        break\n",
    "    \n",
    "    offspring = expand(act_element)\n",
    "    print(\"offspring = \"+str(offspring))\n",
    "    \n",
    "    frontier = addtoQueue(frontier,offspring)\n",
    "    #print(\"frontier = \"+str(frontier))\n"
   ]
  },
  {
   "cell_type": "code",
   "execution_count": 6,
   "metadata": {},
   "outputs": [
    {
     "name": "stdout",
     "output_type": "stream",
     "text": [
      "[1, 1, 1, 1]\n",
      "[[2, 1, 1, 1], [1, 2, 1, 1], [1, 1, 2, 1], [1, 1, 1, 2]]\n"
     ]
    }
   ],
   "source": [
    "import queue\n",
    "front = queue.Queue()\n",
    "front.put([1,1,1,1])\n",
    "front.put([[2,1,1,1],[1,2,1,1],[1,1,2,1],[1,1,1,2]])\n",
    "print(front.get())"
   ]
  },
  {
   "cell_type": "code",
   "execution_count": 45,
   "metadata": {},
   "outputs": [
    {
     "data": {
      "text/plain": [
       "4"
      ]
     },
     "execution_count": 45,
     "metadata": {},
     "output_type": "execute_result"
    }
   ],
   "source": [
    "len(set([1,2,3,4]))"
   ]
  },
  {
   "cell_type": "code",
   "execution_count": 5,
   "metadata": {},
   "outputs": [
    {
     "name": "stdout",
     "output_type": "stream",
     "text": [
      "3000\n"
     ]
    }
   ],
   "source": [
    "import sys\n",
    "print(sys.getrecursionlimit())"
   ]
  },
  {
   "cell_type": "code",
   "execution_count": 21,
   "metadata": {},
   "outputs": [
    {
     "name": "stdout",
     "output_type": "stream",
     "text": [
      "True\n",
      "True\n",
      "True\n"
     ]
    }
   ],
   "source": [
    "expanded_value = [4,2,1,3]\n",
    "n = 4\n",
    "a = len([k for k in expanded_value if k <= n]) is n\n",
    "b = not any(k > n for k in expanded_value)\n",
    "c = len(set(expanded_value)) is n\n",
    "print(a)\n",
    "print(b)\n",
    "print(c)"
   ]
  },
  {
   "cell_type": "code",
   "execution_count": 12,
   "metadata": {},
   "outputs": [
    {
     "name": "stdout",
     "output_type": "stream",
     "text": [
      "The BFS is [4, 3, 2, 1]\n"
     ]
    }
   ],
   "source": [
    "import numpy as np\n",
    "import queue\n",
    "#Recibe una lista de estado: [n1,n2,...] donde n1 != n2!= ...\n",
    "def goaltest(estado):\n",
    "    n = len(estado)\n",
    "    #En caso de que contenga elementos repetidos\n",
    "    if len(set(estado)) is not n :\n",
    "        return False\n",
    "    for i in range(0,n):\n",
    "        X = estado[i]\n",
    "        for j in range(i+1,n):\n",
    "            Y = estado[j]\n",
    "            #print(\"i - j = \"+str(i-j)+\" X - Y = \"+str(X-Y))\n",
    "            if(abs(i-j) is abs(X-Y)):\n",
    "                return False\n",
    "    print(\"The BFS is \"+str(estado))\n",
    "    return True\n",
    "\n",
    "#Expandir el nodo actual, retorna lista de listas\n",
    "def expand(estado):\n",
    "    expanded = []\n",
    "    n = len(estado)\n",
    "    for i in range(0,n):\n",
    "        temporal = [0]*n\n",
    "        temporal[i] = 1\n",
    "        expanded_value = list(np.add(temporal,estado))\n",
    "        #Validate that it can't overextend the range\n",
    "        #And that it has unique values\n",
    "        #Avoids [5,1,3,2] when n=4\n",
    "        if not any(k > n for k in expanded_value):\n",
    "            expanded.append(expanded_value)\n",
    "    return expanded\n",
    "\n",
    "def addtoQueue(queue_,list_of_lists):\n",
    "    for l in list_of_lists:\n",
    "        queue_.put(l)\n",
    "    return queue_\n",
    "\n",
    "# ALGORITMO PRINCIPAL\n",
    "def BFS(frontier):\n",
    "    act_element = frontier.get()\n",
    "    #print(\"act_element = \"+str(act_element))\n",
    "    \n",
    "    if goaltest(act_element):\n",
    "        return\n",
    "    \n",
    "    offspring = expand(act_element)\n",
    "    #print(\"offspring = \"+str(offspring))\n",
    "    \n",
    "    frontier = addtoQueue(frontier,offspring)\n",
    "    #print(\"frontier = \"+str(frontier))\n",
    "    \n",
    "    BFS(frontier)\n",
    "\n",
    "front = queue.Queue()\n",
    "front.put([1,1,1,1])\n",
    "BFS(front)"
   ]
  },
  {
   "cell_type": "code",
   "execution_count": null,
   "metadata": {},
   "outputs": [],
   "source": []
  }
 ],
 "metadata": {
  "kernelspec": {
   "display_name": "Python 3.8.2 32-bit",
   "language": "python",
   "name": "python38232bit327d5eaf2bb9489eb0354fadc0938380"
  },
  "language_info": {
   "codemirror_mode": {
    "name": "ipython",
    "version": 3
   },
   "file_extension": ".py",
   "mimetype": "text/x-python",
   "name": "python",
   "nbconvert_exporter": "python",
   "pygments_lexer": "ipython3",
   "version": "3.8.2-final"
  }
 },
 "nbformat": 4,
 "nbformat_minor": 2
}