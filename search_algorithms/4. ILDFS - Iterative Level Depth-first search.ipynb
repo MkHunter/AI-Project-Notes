{
 "cells": [
  {
   "cell_type": "code",
   "execution_count": 1,
   "metadata": {},
   "outputs": [],
   "source": [
    "import numpy as np\n",
    "import queue\n",
    "#from prettytable import PrettyTable\n",
    "#If you want to install prettytable this library introduce the following command in your console: \n",
    "#        pip install prettytable\n",
    "#Otherwise, comment the lines of code inside goaltest() that uses prettytable."
   ]
  },
  {
   "cell_type": "code",
   "execution_count": 2,
   "metadata": {},
   "outputs": [],
   "source": [
    "#Receives a list that represents the state: [n1,n2,...] where n1 != n2!= ...\n",
    "def goaltest(state,goal):\n",
    "    n = len(state)\n",
    "    attacks = 0\n",
    "    #table = PrettyTable(['Attacks', 'i-j','X[i]-X[j]'])\n",
    "    \n",
    "    for i in range(0,n):\n",
    "        X = state[i]\n",
    "        for j in range(i+1,n):\n",
    "            Y = state[j]\n",
    "            #table.add_row([attacks, i-j,X-Y])\n",
    "            #print(\"Attacks: \"+str(attacks)+\" i - j = \"+str(i-j)+\" X - Y = \"+str(X-Y))\n",
    "            if(X-Y is 0):\n",
    "                attacks+=2\n",
    "            if(abs(i-j) == abs(X-Y)):\n",
    "                attacks+=2\n",
    "    #print(table)\n",
    "        \n",
    "    print(\"You got \"+str(attacks)+\" out of \"+str(goal)+\".\\nYou \"+(\"didn't \",\"\")[attacks==goal]+\"satisfy the goal.\")\n",
    "    return attacks == goal"
   ]
  },
  {
   "cell_type": "code",
   "execution_count": 3,
   "metadata": {},
   "outputs": [],
   "source": [
    "#Expandir el nodo actual, retorna lista de listas\n",
    "def expand(state):\n",
    "    expanded = []\n",
    "    n = len(state)\n",
    "    for i in range(0,n):\n",
    "        temporal = [0]*n\n",
    "        temporal[i] = 1\n",
    "        expanded_value = list(np.add(temporal,state))\n",
    "        #Validate that it can't overextend the range\n",
    "        #And that it has unique values\n",
    "        #if any(k > n for k in expanded_value) and not (len(set(expanded_value)) == n):\n",
    "        #    continue\n",
    "        expanded.append(expanded_value)\n",
    "    return expanded"
   ]
  },
  {
   "cell_type": "code",
   "execution_count": 4,
   "metadata": {},
   "outputs": [],
   "source": [
    "def addtoQueue(queue_,list_of_lists,level):\n",
    "    for l in list_of_lists:\n",
    "        queue_.put([l,level])\n",
    "\n",
    "def printQueue(queue_,elem_limit):\n",
    "    queue_= list(queue_.queue)\n",
    "    if len(queue_)<elem_limit:\n",
    "        print(\"frontier = \"+str(queue_))\n",
    "def shiftList(list_):\n",
    "    return np.flip(list_,axis=0).tolist()"
   ]
  },
  {
   "cell_type": "code",
   "execution_count": 5,
   "metadata": {},
   "outputs": [],
   "source": [
    "# MAIN ALGORITHM\n",
    "cost=1\n",
    "def LDFS(frontier,goal,limit):\n",
    "    global cost\n",
    "    act_state   = frontier.get()\n",
    "    act_element = act_state[0]\n",
    "    level       = act_state[1]\n",
    "    print(\"\\n\"+str(cost)+\". ======== State \"+str(act_element)+\" | Level\"+str(level)+\" ========\")\n",
    "    #print(\"act_element = \"+str(act_element))\n",
    "    \n",
    "    if goaltest(act_element,goal):\n",
    "        print(\"The LDFS is \"+str(act_element))\n",
    "        return\n",
    "    if level >= limit:\n",
    "        print(\"Level achieved: \"+str(level)+\" / \"+str(limit))\n",
    "        return \n",
    "    level+=1\n",
    "    offspring = expand(act_element)\n",
    "    offspring = shiftList(offspring)\n",
    "    \n",
    "    #print(\"offspring = \"+str(offspring))\n",
    "\n",
    "    addtoQueue(frontier,offspring,level)\n",
    "    \n",
    "    #printQueue(frontier,30)\n",
    "    #print(\"frontier = \"+str(frontier))\n",
    "    cost+=1\n",
    "    \n",
    "    LDFS(frontier,goal,limit)"
   ]
  },
  {
   "cell_type": "code",
   "execution_count": null,
   "metadata": {
    "scrolled": true
   },
   "outputs": [],
   "source": [
    "limit = 2;\n",
    "increment = limit\n",
    "front = queue.LifoQueue()\n",
    "front.put([[1,1,1,1],0])\n",
    "\n",
    "iteration = 1\n",
    "\n",
    "while True:\n",
    "    print(\"\\n ======== ITERACIÓN \"+str(iteration)+\"========\")\n",
    "    LDFS(front,0,limit)\n",
    "    limit += increment;\n",
    "    print(str(cost)+\" iterations were done.\")\n",
    "    \n",
    "    iteration+=1\n",
    "    cost = 0\n",
    "    front.queue.clear()\n",
    "    front.put([[1,1,1,1],0])\n"
   ]
  },
  {
   "cell_type": "code",
   "execution_count": null,
   "metadata": {},
   "outputs": [],
   "source": []
  }
 ],
 "metadata": {
  "kernelspec": {
   "display_name": "Python 3",
   "language": "python",
   "name": "python3"
  },
  "language_info": {
   "codemirror_mode": {
    "name": "ipython",
    "version": 3
   },
   "file_extension": ".py",
   "mimetype": "text/x-python",
   "name": "python",
   "nbconvert_exporter": "python",
   "pygments_lexer": "ipython3",
   "version": "3.6.4"
  }
 },
 "nbformat": 4,
 "nbformat_minor": 2
}
